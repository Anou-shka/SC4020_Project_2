{
 "cells": [
  {
   "cell_type": "code",
   "execution_count": 1,
   "metadata": {},
   "outputs": [],
   "source": [
    "import pandas as pd\n",
    "import numpy as np \n",
    "import torch\n",
    "import torch.nn as nn\n",
    "from torch.nn.utils.rnn import pack_padded_sequence, pad_packed_sequence, pad_sequence"
   ]
  },
  {
   "cell_type": "code",
   "execution_count": 2,
   "metadata": {},
   "outputs": [],
   "source": [
    "class LSTMModel(nn.Module):\n",
    "    def __init__(self, input_size=2, hidden_size=64, output_size=2):\n",
    "        super(LSTMModel, self).__init__()\n",
    "        self.lstm = nn.LSTM(input_size, hidden_size, batch_first=True)\n",
    "        self.fc = nn.Linear(hidden_size, output_size)\n",
    "\n",
    "    def forward(self, x, lengths):\n",
    "        packed_input = pack_padded_sequence(x, lengths, batch_first=True, enforce_sorted=False)\n",
    "        packed_output, (hn, cn) = self.lstm(packed_input)\n",
    "        unpacked_output, _ = pad_packed_sequence(packed_output, batch_first=True)\n",
    "        out = self.fc(hn[-1])\n",
    "        return out"
   ]
  },
  {
   "cell_type": "code",
   "execution_count": 3,
   "metadata": {},
   "outputs": [],
   "source": [
    "def make_prediction_city_A(input_sequence):\n",
    "    input_tensor = torch.tensor(input_sequence).unsqueeze(0).float()  \n",
    "    seq_length = torch.tensor([len(input_sequence)]) \n",
    "\n",
    "    model = LSTMModel()\n",
    "\n",
    "    model.load_state_dict(torch.load('./weights/cityA.pth'))\n",
    "    model.eval()\n",
    "\n",
    "    input_tensor = torch.tensor(input_sequence).unsqueeze(0).float()  \n",
    "    seq_length = torch.tensor([len(input_sequence)])  \n",
    "\n",
    "    with torch.no_grad():\n",
    "        predicted_next = model(input_tensor, seq_length)\n",
    "        predicted_next = predicted_next.squeeze().cpu().numpy()  \n",
    "        predicted_next = predicted_next.tolist()\n",
    "\n",
    "    predicted_next = [round(coordinate) for coordinate in predicted_next]\n",
    "\n",
    "    return predicted_next"
   ]
  },
  {
   "cell_type": "code",
   "execution_count": 4,
   "metadata": {},
   "outputs": [],
   "source": [
    "def make_prediction_city_B(input_sequence):\n",
    "    input_tensor = torch.tensor(input_sequence).unsqueeze(0).float()  \n",
    "    seq_length = torch.tensor([len(input_sequence)]) \n",
    "\n",
    "    model = LSTMModel()\n",
    "\n",
    "    model.load_state_dict(torch.load('./weights/cityB.pth'))\n",
    "    model.eval()\n",
    "\n",
    "    input_tensor = torch.tensor(input_sequence).unsqueeze(0).float()  \n",
    "    seq_length = torch.tensor([len(input_sequence)])  \n",
    "\n",
    "    with torch.no_grad():\n",
    "        predicted_next = model(input_tensor, seq_length)\n",
    "        predicted_next = predicted_next.squeeze().cpu().numpy()  \n",
    "        predicted_next = predicted_next.tolist()\n",
    "\n",
    "    predicted_next = [round(coordinate) for coordinate in predicted_next]\n",
    "\n",
    "    return predicted_next"
   ]
  },
  {
   "cell_type": "code",
   "execution_count": 5,
   "metadata": {},
   "outputs": [],
   "source": [
    "def make_prediction_city_C(input_sequence):\n",
    "    input_tensor = torch.tensor(input_sequence).unsqueeze(0).float()  \n",
    "    seq_length = torch.tensor([len(input_sequence)]) \n",
    "\n",
    "    model = LSTMModel()\n",
    "\n",
    "    model.load_state_dict(torch.load('./weights/cityC.pth'))\n",
    "    model.eval()\n",
    "\n",
    "    input_tensor = torch.tensor(input_sequence).unsqueeze(0).float()  \n",
    "    seq_length = torch.tensor([len(input_sequence)])  \n",
    "\n",
    "    with torch.no_grad():\n",
    "        predicted_next = model(input_tensor, seq_length)\n",
    "        predicted_next = predicted_next.squeeze().cpu().numpy()  \n",
    "        predicted_next = predicted_next.tolist()\n",
    "    \n",
    "    predicted_next = [round(coordinate) for coordinate in predicted_next]\n",
    "        \n",
    "    return predicted_next"
   ]
  },
  {
   "cell_type": "code",
   "execution_count": 6,
   "metadata": {},
   "outputs": [],
   "source": [
    "def make_prediction_city_D(input_sequence):\n",
    "    input_tensor = torch.tensor(input_sequence).unsqueeze(0).float()  \n",
    "    seq_length = torch.tensor([len(input_sequence)]) \n",
    "\n",
    "    model = LSTMModel()\n",
    "\n",
    "    model.load_state_dict(torch.load('./weights/cityD.pth'))\n",
    "    model.eval()\n",
    "\n",
    "    input_tensor = torch.tensor(input_sequence).unsqueeze(0).float()  \n",
    "    seq_length = torch.tensor([len(input_sequence)])  \n",
    "\n",
    "    with torch.no_grad():\n",
    "        predicted_next = model(input_tensor, seq_length)\n",
    "        predicted_next = predicted_next.squeeze().cpu().numpy()  \n",
    "        predicted_next = predicted_next.tolist()\n",
    "    \n",
    "    predicted_next = [round(coordinate) for coordinate in predicted_next]\n",
    "\n",
    "    return predicted_next"
   ]
  },
  {
   "cell_type": "code",
   "execution_count": 7,
   "metadata": {},
   "outputs": [
    {
     "data": {
      "text/plain": [
       "85"
      ]
     },
     "execution_count": 7,
     "metadata": {},
     "output_type": "execute_result"
    }
   ],
   "source": [
    "poi_dataA = pd.read_csv('../../Datasets/Task 1/POIdata_cityA.csv')\n",
    "poi_dataB = pd.read_csv('../../Datasets/Task 1/POIdata_cityB.csv')\n",
    "poi_dataC = pd.read_csv('../../Datasets/Task 1/POIdata_cityC.csv')\n",
    "poi_dataD = pd.read_csv('../../Datasets/Task 1/POIdata_cityD.csv')\n",
    "categories = pd.read_csv('../../Datasets/Task 1/POI_datacategories.csv', header=None)\n",
    "categories = list(categories[0])\n",
    "len(categories)"
   ]
  },
  {
   "cell_type": "code",
   "execution_count": 8,
   "metadata": {},
   "outputs": [],
   "source": [
    "poi_listA = list(poi_dataA['category'])\n",
    "poi_list_strA = []\n",
    "\n",
    "for i in range(len(poi_listA)):\n",
    "    index = poi_listA[i]-1\n",
    "    name = categories[index]\n",
    "    poi_list_strA.append(name)\n",
    "\n",
    "poi_list_strA    \n",
    "\n",
    "poi_dataA.drop(columns=['category'], inplace=True)\n",
    "poi_dataA['category'] = poi_list_strA"
   ]
  },
  {
   "cell_type": "code",
   "execution_count": 9,
   "metadata": {},
   "outputs": [],
   "source": [
    "poi_listB = list(poi_dataB['category'])\n",
    "poi_list_strB = []\n",
    "\n",
    "for i in range(len(poi_listB)):\n",
    "    index = poi_listB[i]-1\n",
    "    name = categories[index]\n",
    "    poi_list_strB.append(name)\n",
    "    \n",
    "\n",
    "poi_dataB.drop(columns=['category'], inplace=True)\n",
    "poi_dataB['category'] = poi_list_strB"
   ]
  },
  {
   "cell_type": "code",
   "execution_count": 10,
   "metadata": {},
   "outputs": [],
   "source": [
    "poi_listC = list(poi_dataC['category'])\n",
    "poi_list_strC = []\n",
    "\n",
    "for i in range(len(poi_listC)):\n",
    "    index = poi_listC[i]-1\n",
    "    name = categories[index]\n",
    "    poi_list_strC.append(name)\n",
    "    \n",
    "\n",
    "poi_dataC.drop(columns=['category'], inplace=True)\n",
    "poi_dataC['category'] = poi_list_strC"
   ]
  },
  {
   "cell_type": "code",
   "execution_count": 11,
   "metadata": {},
   "outputs": [],
   "source": [
    "poi_listD = list(poi_dataD['category'])\n",
    "poi_list_strD = []\n",
    "\n",
    "for i in range(len(poi_listD)):\n",
    "    index = poi_listD[i]-1\n",
    "    name = categories[index]\n",
    "    poi_list_strD.append(name)\n",
    "    \n",
    "\n",
    "poi_dataD.drop(columns=['category'], inplace=True)\n",
    "poi_dataD['category'] = poi_list_strD"
   ]
  },
  {
   "cell_type": "code",
   "execution_count": 12,
   "metadata": {},
   "outputs": [],
   "source": [
    "def find_nearby_pois_A(predicted_coordinates, radius=1):\n",
    "\n",
    "\n",
    "    predicted_x = predicted_coordinates[0]\n",
    "    predicted_y = predicted_coordinates[1]\n",
    "\n",
    "    poi_dataA['distance'] = np.sqrt((poi_dataA['x'] - predicted_x)**2 + (poi_dataA['y'] - predicted_y)**2)\n",
    "    \n",
    "    nearby_pois = poi_dataA[poi_dataA['distance'] <= radius].copy()\n",
    "    nearby_pois.drop(columns=['distance', 'POI_count'], inplace=True)\n",
    "\n",
    "    return nearby_pois\n"
   ]
  },
  {
   "cell_type": "code",
   "execution_count": 13,
   "metadata": {},
   "outputs": [],
   "source": [
    "def find_nearby_pois_B(predicted_coordinates, radius=1):\n",
    "\n",
    "\n",
    "    predicted_x = predicted_coordinates[0]\n",
    "    predicted_y = predicted_coordinates[1]\n",
    "\n",
    "    poi_dataB['distance'] = np.sqrt((poi_dataB['x'] - predicted_x)**2 + (poi_dataB['y'] - predicted_y)**2)\n",
    "    \n",
    "    nearby_pois = poi_dataB[poi_dataB['distance'] <= radius].copy()\n",
    "    nearby_pois.drop(columns=['distance', 'POI_count'], inplace=True)\n",
    "\n",
    "    return nearby_pois"
   ]
  },
  {
   "cell_type": "code",
   "execution_count": 14,
   "metadata": {},
   "outputs": [],
   "source": [
    "def find_nearby_pois_C(predicted_coordinates, radius=1):\n",
    "\n",
    "\n",
    "    predicted_x = predicted_coordinates[0]\n",
    "    predicted_y = predicted_coordinates[1]\n",
    "\n",
    "    poi_dataC['distance'] = np.sqrt((poi_dataC['x'] - predicted_x)**2 + (poi_dataC['y'] - predicted_y)**2)\n",
    "    \n",
    "    nearby_pois = poi_dataC[poi_dataC['distance'] <= radius].copy()\n",
    "    nearby_pois.drop(columns=['distance', 'POI_count'], inplace=True)\n",
    "\n",
    "    return nearby_pois"
   ]
  },
  {
   "cell_type": "code",
   "execution_count": 15,
   "metadata": {},
   "outputs": [],
   "source": [
    "def find_nearby_pois_D(predicted_coordinates, radius=1):\n",
    "\n",
    "\n",
    "    predicted_x = predicted_coordinates[0]\n",
    "    predicted_y = predicted_coordinates[1]\n",
    "\n",
    "    poi_dataD['distance'] = np.sqrt((poi_dataD['x'] - predicted_x)**2 + (poi_dataD['y'] - predicted_y)**2)\n",
    "    \n",
    "    nearby_pois = poi_dataD[poi_dataD['distance'] <= radius].copy()\n",
    "    nearby_pois.drop(columns=['distance', 'POI_count'], inplace=True)\n",
    "\n",
    "    return nearby_pois"
   ]
  },
  {
   "cell_type": "code",
   "execution_count": 16,
   "metadata": {},
   "outputs": [
    {
     "name": "stdout",
     "output_type": "stream",
     "text": [
      "          x   y             category\n",
      "193105  178  42                 Park\n",
      "193106  178  42    Building Material\n",
      "193107  178  42          Real Estate\n",
      "194503  179  41        Interior Shop\n",
      "194504  179  41                  Vet\n",
      "194505  179  41               Church\n",
      "194506  179  41        Swimming Pool\n",
      "194507  179  41  Japanese restaurant\n",
      "194508  179  41             Laundry \n",
      "194509  179  42       Heavy Industry\n",
      "194510  179  42                  NPO\n",
      "194511  179  42              Fishing\n",
      "194512  179  42     Community Center\n",
      "194513  179  42                 Port\n",
      "194514  179  42       Driving School\n",
      "194515  179  43                  NPO\n",
      "194516  179  43           Hair Salon\n",
      "194517  179  43    Elderly Care Home\n",
      "194518  179  43    Accountant Office\n",
      "194519  179  43          Real Estate\n",
      "194520  179  43             Laundry \n",
      "194521  179  43                 Bank\n",
      "194522  179  43       Driving School\n",
      "194523  179  43                  Vet\n",
      "194524  179  43                 Café\n",
      "194525  179  43             Pharmacy\n",
      "194526  179  43               Church\n",
      "194527  179  43        Grocery Store\n",
      "194528  179  43   Recruitment Office\n",
      "194529  179  43         Recycle Shop\n",
      "194530  179  43     Community Center\n",
      "194531  179  43    Building Material\n",
      "194532  179  43         Retail Store\n",
      "194533  179  43            DIY Store\n",
      "194534  179  43       Heavy Industry\n",
      "194535  179  43                 Food\n",
      "194536  179  43      Home Appliances\n",
      "194537  179  43        Swimming Pool\n",
      "194538  179  43                 Park\n",
      "194539  179  43         Sports Store\n",
      "194540  179  43    Sports Recreation\n",
      "194541  179  43         Chiropractic\n",
      "194542  179  43    Convenience Store\n",
      "194543  179  43              Fishing\n",
      "194544  179  43        Interior Shop\n",
      "194545  179  43             Hospital\n",
      "195829  180  42       Heavy Industry\n",
      "195830  180  42          Real Estate\n",
      "195831  180  42                 Port\n"
     ]
    }
   ],
   "source": [
    "list_of_suggestionsA = find_nearby_pois_A(make_prediction_city_A([[176, 48]]))\n",
    "print(list_of_suggestionsA)"
   ]
  },
  {
   "cell_type": "code",
   "execution_count": 17,
   "metadata": {},
   "outputs": [
    {
     "name": "stdout",
     "output_type": "stream",
     "text": [
      "        x   y           category\n",
      "22847  75  74        Real Estate\n",
      "22848  75  74  Accountant Office\n",
      "22849  75  74           Hospital\n",
      "22850  75  74  Building Material\n",
      "22851  75  74      Grocery Store\n",
      "...    ..  ..                ...\n",
      "25473  77  74  Research Facility\n",
      "25474  77  74     Heavy Industry\n",
      "25475  77  74      Clothes Store\n",
      "25476  77  74  Elderly Care Home\n",
      "25477  77  74      Lawyer Office\n",
      "\n",
      "[117 rows x 3 columns]\n"
     ]
    }
   ],
   "source": [
    "list_of_suggestionsB = find_nearby_pois_B(make_prediction_city_B([[79, 73]]))\n",
    "print(list_of_suggestionsB)"
   ]
  },
  {
   "cell_type": "code",
   "execution_count": 18,
   "metadata": {},
   "outputs": [
    {
     "name": "stdout",
     "output_type": "stream",
     "text": [
      "        x    y           category\n",
      "21969  30  185        Real Estate\n",
      "21970  30  185               Park\n",
      "21971  30  185               Bank\n",
      "21972  30  185    Transit Station\n",
      "21973  30  185                NPO\n",
      "...    ..  ...                ...\n",
      "24434  32  185     Heavy Industry\n",
      "24435  32  185             Bakery\n",
      "24436  32  185        Cram School\n",
      "24437  32  185  Convenience Store\n",
      "24438  32  185               Café\n",
      "\n",
      "[92 rows x 3 columns]\n"
     ]
    }
   ],
   "source": [
    "list_of_suggestionsC = find_nearby_pois_C(make_prediction_city_C([[31, 190]]))\n",
    "print(list_of_suggestionsC)"
   ]
  },
  {
   "cell_type": "code",
   "execution_count": 19,
   "metadata": {},
   "outputs": [
    {
     "name": "stdout",
     "output_type": "stream",
     "text": [
      "         x   y           category\n",
      "38035  124  61             Church\n",
      "38036  124  61  Electronics Store\n",
      "38037  124  61              Pizza\n",
      "38038  124  61     Utility Copany\n",
      "38039  124  61      Grocery Store\n",
      "38040  124  61           Hospital\n",
      "38372  125  61    Transit Station\n",
      "38373  125  61        Post Office\n",
      "38374  125  61  Accountant Office\n",
      "38375  125  61               Port\n",
      "38376  125  61         Drug Store\n",
      "38377  125  61         Hair Salon\n",
      "38378  125  61           Laundry \n",
      "38379  125  61           Hospital\n",
      "38380  125  61  Building Material\n",
      "38381  125  62           Laundry \n",
      "38382  125  62         Hair Salon\n",
      "38383  125  62    Home Appliances\n",
      "38851  126  61    Home Appliances\n",
      "38852  126  61            Fishing\n",
      "38853  126  61  Building Material\n",
      "38854  126  61      Grocery Store\n"
     ]
    }
   ],
   "source": [
    "list_of_suggestionsD = find_nearby_pois_D(make_prediction_city_D([[123, 62]]))\n",
    "print(list_of_suggestionsD)"
   ]
  }
 ],
 "metadata": {
  "kernelspec": {
   "display_name": "Python 3",
   "language": "python",
   "name": "python3"
  },
  "language_info": {
   "codemirror_mode": {
    "name": "ipython",
    "version": 3
   },
   "file_extension": ".py",
   "mimetype": "text/x-python",
   "name": "python",
   "nbconvert_exporter": "python",
   "pygments_lexer": "ipython3",
   "version": "3.10.4"
  }
 },
 "nbformat": 4,
 "nbformat_minor": 2
}
