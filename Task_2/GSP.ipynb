{
  "cells": [
    {
      "cell_type": "code",
      "source": [
        "import pandas as pd\n",
        "from collections import defaultdict\n",
        "from itertools import combinations\n"
      ],
      "metadata": {
        "id": "C7syxtwOSTPZ"
      },
      "execution_count": 8,
      "outputs": []
    },
    {
      "cell_type": "markdown",
      "metadata": {
        "id": "7b6oGK3x_x7z"
      },
      "source": [
        "## Preprocess Data"
      ]
    },
    {
      "cell_type": "code",
      "execution_count": 54,
      "metadata": {
        "id": "3CQpwlB7_x7z"
      },
      "outputs": [],
      "source": [
        "import pandas as pd\n",
        "import re\n",
        "\n",
        "def preprocess_triplegs(df, timestamp_col='started_at'):\n",
        "    \"\"\"\n",
        "    Preprocess the triplegs data by extracting sequences of triplegs for each user.\n",
        "\n",
        "    Parameters:\n",
        "    df (pd.DataFrame): The triplegs DataFrame.\n",
        "    timestamp_col (str): The name of the column containing the timestamp.\n",
        "\n",
        "    Returns:\n",
        "    list: A list of sequences of triplegs for each user as lists of tuples.\n",
        "    \"\"\"\n",
        "    # Convert the timestamp column to datetime\n",
        "    df[timestamp_col] = pd.to_datetime(df[timestamp_col])\n",
        "\n",
        "    # Define the starting date and filter data to include only the first 30 days\n",
        "    start_date = pd.to_datetime('1900-01-01').tz_localize('UTC')\n",
        "    end_date = start_date + pd.Timedelta(days=30)\n",
        "\n",
        "    # Use .copy() to avoid SettingWithCopyWarning\n",
        "    df = df.loc[(df[timestamp_col] >= start_date) & (df[timestamp_col] < end_date)].copy()\n",
        "\n",
        "    # Function to convert LINESTRING to integer coordinates\n",
        "    def linestring_to_int_coords(linestring):\n",
        "        # Extract the coordinates from the LINESTRING\n",
        "        coords = re.findall(r'(\\d+\\.\\d+ \\d+\\.\\d+)', linestring)\n",
        "        # Convert the coordinates to tuples of integers\n",
        "        int_coords = [tuple(map(int, map(float, coord.split()))) for coord in coords]\n",
        "        return int_coords  # Return as a list of tuples\n",
        "\n",
        "    # Convert the LINESTRING sequences to integer coordinates\n",
        "    df['geom'] = df['geom'].apply(linestring_to_int_coords)\n",
        "\n",
        "    # Extract sequences of triplegs for each user\n",
        "    user_sequences = df.groupby('user_id')['geom'].apply(list).tolist()\n",
        "\n",
        "    # Flatten the list of lists into a single list of tuples\n",
        "    final_output = []\n",
        "    for sequence in user_sequences:\n",
        "        final_output.extend(sequence)  # Extend the final_output list with tuples\n",
        "\n",
        "    return final_output"
      ]
    },
    {
      "cell_type": "code",
      "source": [
        "def split_long_triplegs(df, max_length=1000):\n",
        "    \"\"\"\n",
        "    Split long triplegs into shorter sub-triplegs.\n",
        "\n",
        "    Parameters:\n",
        "    df (pd.DataFrame): The triplegs DataFrame.\n",
        "    max_length (int): The maximum length of a tripleg.\n",
        "\n",
        "    Returns:\n",
        "    pd.DataFrame: The DataFrame with long triplegs split into shorter sub-triplegs.\n",
        "    \"\"\"\n",
        "    def split_geom(geom, max_length):\n",
        "        points = geom.split(',')\n",
        "        sub_triplegs = [','.join(points[i:i + max_length]) for i in range(0, len(points), max_length)]\n",
        "        return sub_triplegs\n",
        "\n",
        "    new_rows = []\n",
        "    for _, row in df.iterrows():\n",
        "        geoms = split_geom(row['geom'], max_length)\n",
        "        for geom in geoms:\n",
        "            new_row = row.copy()\n",
        "            new_row['geom'] = geom\n",
        "            new_rows.append(new_row)\n",
        "\n",
        "    return pd.DataFrame(new_rows)"
      ],
      "metadata": {
        "id": "FgEVbX-sK5Tx"
      },
      "execution_count": 28,
      "outputs": []
    },
    {
      "cell_type": "markdown",
      "metadata": {
        "id": "YCZOHzaO_x7z"
      },
      "source": [
        "## Apply GSP"
      ]
    },
    {
      "cell_type": "code",
      "source": [
        "from collections import defaultdict\n",
        "from itertools import combinations\n",
        "\n",
        "#contiguous matching\n",
        "def generate_candidates(sequences, length):\n",
        "    \"\"\"Generate candidate sequences of a given length.\"\"\"\n",
        "    candidates = set()\n",
        "    for seq in sequences:\n",
        "        for i in range(len(seq) - length + 1):\n",
        "            candidates.add(tuple(seq[i:i + length]))\n",
        "    return candidates\n",
        "\n",
        "def is_subsequence(candidate, sequence):\n",
        "    \"\"\"Check if candidate is a subsequence of sequence.\"\"\"\n",
        "    it = iter(sequence)\n",
        "    return all(item in it for item in candidate)\n",
        "\n",
        "#discontinuous matching\n",
        "# def generate_candidates(sequences, length):\n",
        "#     \"\"\"Generate candidate sequences of a given length, allowing non-contiguous elements.\"\"\"\n",
        "#     candidates = set()\n",
        "#     for seq in sequences:\n",
        "#         for indices in combinations(range(len(seq)), length):\n",
        "#             # Create a candidate using the indices to select elements from the sequence\n",
        "#             candidates.add(tuple(tuple(seq[i]) for i in indices))\n",
        "#     return candidates\n",
        "\n",
        "# def is_subsequence(candidate, sequence):\n",
        "#     \"\"\"Check if the candidate sequence is a subsequence of the sequence, ignoring elements in between.\"\"\"\n",
        "#     it = iter(sequence)  # Create an iterator for the sequence\n",
        "#     return all(item in it for item in candidate)\n",
        "\n",
        "def count_support(candidates, sequences):\n",
        "    \"\"\"Count the support of each candidate sequence in the dataset.\"\"\"\n",
        "    support_count = defaultdict(int)\n",
        "    for candidate in candidates:\n",
        "        for seq in sequences:\n",
        "            if is_subsequence(candidate, seq):\n",
        "                support_count[candidate] += 1\n",
        "    return support_count\n",
        "\n",
        "\n",
        "def prune_candidates(support_count, min_support):\n",
        "    \"\"\"Prune candidate sequences that do not meet the minimum support threshold.\"\"\"\n",
        "    return {seq: count for seq, count in support_count.items() if count >= min_support}\n",
        "\n",
        "def generate_new_candidates(frequent_sequences, length):\n",
        "    \"\"\"Generate new candidate sequences by joining frequent sequences.\"\"\"\n",
        "    new_candidates = set()\n",
        "    frequent_sequences = list(frequent_sequences)\n",
        "    for seq1, seq2 in combinations(frequent_sequences, 2):\n",
        "        # Join sequences if they can form a new length candidate\n",
        "        if seq1[1:] == seq2[:-1]:\n",
        "            new_candidates.add(seq1 + (seq2[-1],))\n",
        "    return new_candidates\n",
        "\n",
        "def gsp(sequences, min_support):\n",
        "    \"\"\"Implement the GSP algorithm to mine sequential patterns.\"\"\"\n",
        "    length = 2\n",
        "    frequent_sequences = generate_candidates(sequences, length)\n",
        "    all_frequent_sequences = []\n",
        "\n",
        "    while frequent_sequences:\n",
        "        support_count = count_support(frequent_sequences, sequences)\n",
        "        frequent_sequences = prune_candidates(support_count, min_support)\n",
        "\n",
        "        all_frequent_sequences.extend(frequent_sequences.keys())\n",
        "\n",
        "        length += 1\n",
        "        frequent_sequences = generate_new_candidates(frequent_sequences.keys(), length)\n",
        "\n",
        "    return all_frequent_sequences\n"
      ],
      "metadata": {
        "id": "ShWEKZGxDu1X"
      },
      "execution_count": 69,
      "outputs": []
    },
    {
      "cell_type": "markdown",
      "metadata": {
        "id": "TClCAJf9_x70"
      },
      "source": [
        "## Save Output to CSV"
      ]
    },
    {
      "cell_type": "code",
      "execution_count": 64,
      "metadata": {
        "id": "bS7LTzhC_x70"
      },
      "outputs": [],
      "source": [
        "def save_gsp_results(gsp_results, output_file):\n",
        "    \"\"\"\n",
        "    Save the GSP results to a CSV file.\n",
        "\n",
        "    Parameters:\n",
        "    gsp_results (list): A list of frequent sequences.\n",
        "    output_file (str): The path to the output CSV file.\n",
        "    \"\"\"\n",
        "    sequences_df = pd.DataFrame(gsp_results, columns=['Sequence'])\n",
        "    sequences_df.to_csv(output_file, index=False)\n",
        "    print(f\"GSP results saved to {output_file}\")"
      ]
    },
    {
      "cell_type": "code",
      "execution_count": 70,
      "metadata": {
        "id": "BUSSx5yT_x70"
      },
      "outputs": [],
      "source": [
        "df = pd.read_csv('./triplegsD.csv' , nrows = 500)\n",
        "\n",
        "# Split long triplegs into shorter sub-triplegs\n",
        "df = split_long_triplegs(df)\n",
        "\n",
        "# Preprocess the data and limit to the first month\n",
        "sequences = preprocess_triplegs(df)"
      ]
    },
    {
      "cell_type": "code",
      "source": [
        "# Define the minimum support threshold dynamically as x% of the dataset\n",
        "min_support = max(1, int(0.01 * len(sequences)))  # Ensure at least 1\n",
        "print(f\"Minimum support threshold: {min_support}\")\n",
        "# Apply the GSP algorithm to find frequent sequences\n",
        "frequent_sequences = gsp(sequences, min_support)\n",
        "\n"
      ],
      "metadata": {
        "id": "42gCSb7NPUbV",
        "colab": {
          "base_uri": "https://localhost:8080/"
        },
        "outputId": "2c989a38-27f1-40a3-8a4d-29f7d2cd1912"
      },
      "execution_count": 71,
      "outputs": [
        {
          "output_type": "stream",
          "name": "stdout",
          "text": [
            "Minimum support threshold: 2\n"
          ]
        }
      ]
    },
    {
      "cell_type": "code",
      "source": [
        "len(frequent_sequences)"
      ],
      "metadata": {
        "colab": {
          "base_uri": "https://localhost:8080/"
        },
        "id": "v_RGLB1CEyBA",
        "outputId": "04ff2c45-daf4-49c9-87df-70934e5e4296"
      },
      "execution_count": 72,
      "outputs": [
        {
          "output_type": "execute_result",
          "data": {
            "text/plain": [
              "380"
            ]
          },
          "metadata": {},
          "execution_count": 72
        }
      ]
    },
    {
      "cell_type": "code",
      "source": [
        "# Save the GSP results to a CSV file\n",
        "output_file = 'gsp_cityD.csv'\n",
        "save_gsp_results(frequent_sequences, output_file)"
      ],
      "metadata": {
        "id": "g3NhVnvDE31q"
      },
      "execution_count": null,
      "outputs": []
    },
    {
      "cell_type": "markdown",
      "source": [
        "## Test Code"
      ],
      "metadata": {
        "id": "ALLw2OfuE4wj"
      }
    },
    {
      "cell_type": "code",
      "source": [
        "sample_sequences = [ [(1, 2), (3, 4), (5, 6)], [(1, 2), (3, 4), (7, 8)], [(1, 2), (3, 4), (5, 6)], [(1, 2), (9, 10), (11, 12)], [(1, 2), (3, 4), (5, 6)], [(13, 14), (3, 4), (5, 6)], [(1, 2), (3, 4), (5, 6)], [(1, 2), (3, 4), (7, 8)], [(1, 2), (3, 4), (5, 6)], [(1, 2), (9, 10), (11, 12)] , [(1, 2), (9, 10), (11, 12)],[(1, 2), (9, 10), (11, 12)] ]"
      ],
      "metadata": {
        "id": "22thWumWQ0Bt"
      },
      "execution_count": 61,
      "outputs": []
    },
    {
      "cell_type": "code",
      "source": [
        "# Define the minimum support threshold dynamically as x% of the dataset\n",
        "min_support = 2\n",
        "print(f\"Minimum support threshold: {min_support}\")\n",
        "# Apply the GSP algorithm to find frequent sequences\n",
        "frequent_sequences = gsp(sample_sequences, min_support)"
      ],
      "metadata": {
        "id": "g_WhThXHQUI2",
        "colab": {
          "base_uri": "https://localhost:8080/"
        },
        "outputId": "0fc8fd36-0392-4b12-f134-e41a31806971"
      },
      "execution_count": 62,
      "outputs": [
        {
          "output_type": "stream",
          "name": "stdout",
          "text": [
            "Minimum support threshold: 2\n"
          ]
        }
      ]
    },
    {
      "cell_type": "code",
      "source": [
        "frequent_sequences"
      ],
      "metadata": {
        "colab": {
          "base_uri": "https://localhost:8080/"
        },
        "id": "H8UXuranF2S0",
        "outputId": "e93ee380-2005-4319-af81-f999eb352916"
      },
      "execution_count": 63,
      "outputs": [
        {
          "output_type": "execute_result",
          "data": {
            "text/plain": [
              "[((3, 4), (7, 8)),\n",
              " ((1, 2), (9, 10)),\n",
              " ((9, 10), (11, 12)),\n",
              " ((1, 2), (5, 6)),\n",
              " ((1, 2), (3, 4)),\n",
              " ((3, 4), (5, 6)),\n",
              " ((1, 2), (7, 8)),\n",
              " ((1, 2), (11, 12)),\n",
              " ((1, 2), (9, 10), (11, 12)),\n",
              " ((1, 2), (3, 4), (5, 6))]"
            ]
          },
          "metadata": {},
          "execution_count": 63
        }
      ]
    }
  ],
  "metadata": {
    "kernelspec": {
      "display_name": "base",
      "language": "python",
      "name": "python3"
    },
    "language_info": {
      "name": "python",
      "version": "3.9.13"
    },
    "colab": {
      "provenance": []
    }
  },
  "nbformat": 4,
  "nbformat_minor": 0
}